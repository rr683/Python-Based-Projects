{
 "cells": [
  {
   "cell_type": "markdown",
   "metadata": {},
   "source": [
    "States = [h = alt, s = downtange distance, v = speed of spacecraft, gamma = flight path angle]\n",
    "\n",
    "Equations of motion = x = f(x, u, t)\n",
    "\n",
    "Boundary conditions: \n",
    "\n",
    "Initial Conditions: "
   ]
  }
 ],
 "metadata": {
  "kernelspec": {
   "display_name": "Python 3.9.12 64-bit",
   "language": "python",
   "name": "python3"
  },
  "language_info": {
   "name": "python",
   "version": "3.9.12"
  },
  "orig_nbformat": 4,
  "vscode": {
   "interpreter": {
    "hash": "aee8b7b246df8f9039afb4144a1f6fd8d2ca17a180786b69acc140d282b71a49"
   }
  }
 },
 "nbformat": 4,
 "nbformat_minor": 2
}
