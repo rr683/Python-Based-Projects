{
 "cells": [
  {
   "cell_type": "markdown",
   "metadata": {},
   "source": [
    "First attempt at easy to code Kalman filter in a straightforward way using the wikipedia page for Kalman filter"
   ]
  },
  {
   "cell_type": "code",
   "execution_count": null,
   "metadata": {},
   "outputs": [],
   "source": [
    "import numpy as np \n",
    "\n",
    "class kalmanfilter(object):\n",
    "    def __init__(self):\n",
    "        \"\"\"Attributes aka vars will go here \"\"\"\n",
    "        pass\n",
    "    \n",
    "    def preditc(self):\n",
    "        \"\"\"Prediction equations will go here\"\"\"\n",
    "        pass\n",
    "    \n",
    "    def update(self):\n",
    "        \"\"\"Update equations will go here\"\"\"\n",
    "        pass\n",
    "    \n",
    "    "
   ]
  }
 ],
 "metadata": {
  "language_info": {
   "name": "python"
  },
  "orig_nbformat": 4
 },
 "nbformat": 4,
 "nbformat_minor": 2
}
