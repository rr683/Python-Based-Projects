{
 "cells": [
  {
   "cell_type": "markdown",
   "metadata": {},
   "source": [
    "First attempt at easy to code Kalman filter in a straightforward way using the wikipedia page for Kalman filter"
   ]
  },
  {
   "cell_type": "code",
   "execution_count": 2,
   "metadata": {},
   "outputs": [],
   "source": [
    "import numpy as np \n",
    "\n",
    "class kalmanfilter(object):\n",
    "    def __init__(self, F = None, H = None, Q = None, R = None, B = None, x_estimate = None, P = None ):\n",
    "        \"\"\"Attributes aka vars will go here -- all values sre defaulted to None \"\"\"\n",
    "        self.state_transition_F = F \n",
    "        self.observation = H\n",
    "        self.process_noise_cov_Q = Q\n",
    "        self.obs_noise_cov_R = R\n",
    "        self.control_input_B = B\n",
    "        self.state_cov_P = P \n",
    "        self.x_state_estimate = x_estimate\n",
    "        #TODO: add np.matrix so that you can do a multiple dimension KF \n",
    "    \n",
    "    def predict(self, u_controlVec = 0):\n",
    "        \"\"\"Prediction equations will go here\"\"\"\n",
    "        self.x_state_estimate = self.state_transition_F*self.x_state_estimate-1 + self.control_input_B*u_controlVec\n",
    "        self.state_cov_P = self.state_transition_F*self.state_cov_P-1*np.transpose(self.state_transition_F) + self.process_noise_cov_Q\n",
    "        \n",
    "        return self.x_state_estimate\n",
    "    \n",
    "    def update(self):\n",
    "        \"\"\"Update equations will go here\"\"\"\n",
    "        kalman_gain = None \n",
    "    \n",
    "    "
   ]
  }
 ],
 "metadata": {
  "kernelspec": {
   "display_name": "Python 3.10.8 64-bit",
   "language": "python",
   "name": "python3"
  },
  "language_info": {
   "codemirror_mode": {
    "name": "ipython",
    "version": 3
   },
   "file_extension": ".py",
   "mimetype": "text/x-python",
   "name": "python",
   "nbconvert_exporter": "python",
   "pygments_lexer": "ipython3",
   "version": "3.10.8"
  },
  "orig_nbformat": 4,
  "vscode": {
   "interpreter": {
    "hash": "04beb1a1cf3814d116065af780dfca5aa3b089ce1a06bfc659a10e29f0641da0"
   }
  }
 },
 "nbformat": 4,
 "nbformat_minor": 2
}
