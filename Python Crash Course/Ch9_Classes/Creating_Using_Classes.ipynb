{
 "cells": [
  {
   "cell_type": "markdown",
   "metadata": {},
   "source": [
    "Creating a dog with name,age that can sit and roll over"
   ]
  },
  {
   "cell_type": "code",
   "execution_count": 1,
   "metadata": {},
   "outputs": [],
   "source": [
    "class Dog:\n",
    "    \"A simple attempt to model a generic dog\"\n",
    "\n",
    "    def __init__(self, name, age):\n",
    "        \"\"\" Initializing name and age attributed\"\"\"\n",
    "        self.name = name \n",
    "        self.age = age \n",
    "    \n",
    "    def sit(self):\n",
    "        \"\"\"Simulate a dog sitting in response to some command\"\"\"\n",
    "        print(f\"{self.name} is now sitting\")\n",
    "\n",
    "    def roll_over(self):\n",
    "        \"\"\"simulate a dog rolling over in response to some command\"\"\"\n",
    "        print(f\"{self.name} is now rolling over\")\n",
    "\n",
    "# remember that 'self' needs to exist in the class so that when you reference class 'Dog' it knows what attributes to pass."
   ]
  },
  {
   "cell_type": "markdown",
   "metadata": {},
   "source": [
    "Now we can make an instance from the class we created!"
   ]
  },
  {
   "cell_type": "code",
   "execution_count": 2,
   "metadata": {},
   "outputs": [
    {
     "name": "stdout",
     "output_type": "stream",
     "text": [
      "My dog's name is Oslo, he is 2\n"
     ]
    }
   ],
   "source": [
    "my_dog = Dog(\"Oslo\", 2)\n",
    "print(f\"My dog's name is {my_dog.name}, he is {my_dog.age}\")\n"
   ]
  },
  {
   "cell_type": "markdown",
   "metadata": {},
   "source": [
    "Now we can create Multiple Instances and call methods!"
   ]
  },
  {
   "cell_type": "code",
   "execution_count": 4,
   "metadata": {},
   "outputs": [
    {
     "name": "stdout",
     "output_type": "stream",
     "text": [
      "My dog's name is Oslo, he is 2\n",
      "Oslo is now sitting\n",
      "Your dog's name is Coco, he is 5\n",
      "Coco is now sitting\n"
     ]
    }
   ],
   "source": [
    "my_dog = Dog(\"Oslo\", 2)\n",
    "your_dog = Dog(\"Coco\", 5)\n",
    "print(f\"My dog's name is {my_dog.name}, he is {my_dog.age}\")\n",
    "my_dog.sit()\n",
    "print(f\"Your dog's name is {your_dog.name}, he is {your_dog.age}\")\n",
    "your_dog.sit()\n",
    "\n"
   ]
  },
  {
   "cell_type": "markdown",
   "metadata": {},
   "source": [
    "TRY IT YOURSELF EXERCISE 9-1, 9-2, 9-3 on page 162"
   ]
  },
  {
   "cell_type": "code",
   "execution_count": 5,
   "metadata": {},
   "outputs": [],
   "source": [
    "class Restaurant:\n",
    "# Exercise 9-1\n",
    "    def __init__(self, restaurant_name, cuisine_type):\n",
    "        \"\"\"initializing atributes\"\"\"\n",
    "        self.restaurant_name = restaurant_name\n",
    "        self.cuisine_type = cuisine_type\n",
    "    \n",
    "    def describe_restaurant(self):\n",
    "        \"\"\"Prints two pieces of information\"\"\"\n",
    "        print(f\"The restaurant name is {self.restaurant_name}\")\n",
    "        print(f\"The cuisine is mainly {self.cuisine_type}\")\n",
    "\n",
    "    def open_restaurant(self):\n",
    "        \"\"\"Prints message indicating restaurant is open\"\"\"\n",
    "        print(\"Restaurant is open now!\")\n",
    "\n",
    "    "
   ]
  },
  {
   "cell_type": "code",
   "execution_count": 8,
   "metadata": {},
   "outputs": [
    {
     "name": "stdout",
     "output_type": "stream",
     "text": [
      "The restaurant name is The Best\n",
      "The cuisine is mainly Fusion Cuisine\n",
      "The restaurant name is American Wings\n",
      "The cuisine is mainly American Fast Food\n",
      "The restaurant name is American Wings\n",
      "The cuisine is mainly American Fast Food\n"
     ]
    }
   ],
   "source": [
    "# Exercise 9-2\n",
    "most_famous = Restaurant(\"The Best\", \"Fusion Cuisine\")\n",
    "most_famous.describe_restaurant()\n",
    "\n",
    "lowest_rated = Restaurant(\"American Wings\", \"American Fast Food\")\n",
    "lowest_rated.describe_restaurant()\n",
    "\n",
    "newest_restaurant = Restaurant(\"New American Food\", \"Greek Asian\")\n",
    "lowest_rated.describe_restaurant()"
   ]
  },
  {
   "cell_type": "code",
   "execution_count": 11,
   "metadata": {},
   "outputs": [
    {
     "name": "stdout",
     "output_type": "stream",
     "text": [
      "\n",
      " Summary info of user's name: Ricardo\n",
      "\n",
      " Summary info of user's last name: Rosales-Mesta\n",
      "\n",
      " Summary info of user's age: 24\n",
      "\n",
      " Summary info of user's height: 5.8\n",
      "Hello, Mr Rosales-Mesta! We are ready for you\n"
     ]
    }
   ],
   "source": [
    "# Exercise 9-3\n",
    "class User: \n",
    "    \n",
    "    def __init__(self, first_name, last_name, age, height):\n",
    "        self.first_name = first_name\n",
    "        self.last_name = last_name\n",
    "        self.age = age\n",
    "        self.height = height \n",
    "\n",
    "    def describe_user(self, **user_info):\n",
    "        print(f\"\\n Summary info of user's name: {self.first_name}\")\n",
    "        print(f\"\\n Summary info of user's last name: {self.last_name}\")\n",
    "        print(f\"\\n Summary info of user's age: {self.age}\")\n",
    "        print(f\"\\n Summary info of user's height: {self.height}\")\n",
    "\n",
    "    \n",
    "\n",
    "    def greet_user(self, **greetings):\n",
    "      print(f\"Hello, Mr {self.last_name}! We are ready for you\" )  \n",
    "\n",
    "\n",
    "ricardo = User(\"Ricardo\", \"Rosales-Mesta\", \"24\", \"5.8\")\n",
    "ricardo.describe_user()\n",
    "ricardo.greet_user()\n",
    "      "
   ]
  }
 ],
 "metadata": {
  "kernelspec": {
   "display_name": "Python 3.8.2 ('venv': venv)",
   "language": "python",
   "name": "python3"
  },
  "language_info": {
   "codemirror_mode": {
    "name": "ipython",
    "version": 3
   },
   "file_extension": ".py",
   "mimetype": "text/x-python",
   "name": "python",
   "nbconvert_exporter": "python",
   "pygments_lexer": "ipython3",
   "version": "3.8.2"
  },
  "orig_nbformat": 4,
  "vscode": {
   "interpreter": {
    "hash": "fab4ce59a80b4785044b73226da79ac695db16b15c143c898611eeee12bbc540"
   }
  }
 },
 "nbformat": 4,
 "nbformat_minor": 2
}
