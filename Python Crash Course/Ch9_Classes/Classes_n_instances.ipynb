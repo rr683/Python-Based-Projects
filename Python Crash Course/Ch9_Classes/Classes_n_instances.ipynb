{
 "cells": [
  {
   "cell_type": "markdown",
   "metadata": {},
   "source": [
    "Now we can work with instances from our classes and learn how to and modify attributes by writing methods to modify if needed. "
   ]
  },
  {
   "cell_type": "code",
   "execution_count": 2,
   "metadata": {},
   "outputs": [
    {
     "name": "stdout",
     "output_type": "stream",
     "text": [
      "2017 Volkswagen Passat R-Line\n"
     ]
    }
   ],
   "source": [
    "class Car: \n",
    "    \"\"\"A simple model of a car\"\"\"\n",
    "\n",
    "    def __init__(self, make, model, year):\n",
    "        \"\"\"Initializing attributes\"\"\"\n",
    "        self.make = make\n",
    "        self.model = model\n",
    "        self.year = year\n",
    "\n",
    "    def get_description(self):\n",
    "        \"Returns formatted make description\"\n",
    "        long_name = f\"{self.year} {self.make} {self.model}\"\n",
    "        \n",
    "        return long_name.title()\n",
    "\n",
    "my_newcar = Car('Volkswagen', \"Passat R-Line\", \"2017\")\n",
    "print(my_newcar.get_description())\n"
   ]
  },
  {
   "cell_type": "markdown",
   "metadata": {},
   "source": [
    "Can we define additional attributes without defining them as part of the init() method? Yes! "
   ]
  },
  {
   "cell_type": "code",
   "execution_count": 9,
   "metadata": {},
   "outputs": [
    {
     "name": "stdout",
     "output_type": "stream",
     "text": [
      "2017 Volkswagen Passat R-Line\n",
      "Check the odometer reading: 0\n"
     ]
    }
   ],
   "source": [
    "class Car: \n",
    "    \"\"\"A simple model of a car\"\"\"\n",
    "\n",
    "    def __init__(self, make, model, year):\n",
    "        \"\"\"Initializing attributes\"\"\"\n",
    "        self.make = make\n",
    "        self.model = model\n",
    "        self.year = year\n",
    "        self.odometer_reading = 0\n",
    "\n",
    "    def get_description(self):\n",
    "        \"Returns formatted make description\"\n",
    "        long_name = f\"{self.year} {self.make} {self.model}\"\n",
    "        \n",
    "        return long_name.title()\n",
    "    \n",
    "    def read_odometer(self):\n",
    "        print(f'Check the odometer reading: {self.odometer_reading}') \n",
    "\n",
    "my_newcar = Car('Volkswagen', \"Passat R-Line\", \"2017\")\n",
    "print(my_newcar.get_description())\n",
    "my_newcar.read_odometer()"
   ]
  },
  {
   "cell_type": "markdown",
   "metadata": {},
   "source": [
    "We can modify this attribute by doing the following:"
   ]
  },
  {
   "cell_type": "code",
   "execution_count": 10,
   "metadata": {},
   "outputs": [
    {
     "name": "stdout",
     "output_type": "stream",
     "text": [
      "Check the odometer reading: 2000\n"
     ]
    }
   ],
   "source": [
    "my_newcar.odometer_reading = 2000\n",
    "my_newcar.read_odometer()"
   ]
  },
  {
   "cell_type": "markdown",
   "metadata": {},
   "source": [
    "or alternatively we can do this we can add a method that can tell us when the odometer has been changed/updated:"
   ]
  },
  {
   "cell_type": "code",
   "execution_count": 17,
   "metadata": {},
   "outputs": [],
   "source": [
    "class Car: \n",
    "    \"\"\"A simple model of a car\"\"\"\n",
    "\n",
    "    def __init__(self, make, model, year):\n",
    "        \"\"\"Initializing attributes\"\"\"\n",
    "        self.make = make\n",
    "        self.model = model\n",
    "        self.year = year\n",
    "        self.odometer_reading = 0\n",
    "\n",
    "    def get_description(self):\n",
    "        \"Returns formatted make description\"\n",
    "        long_name = f\"{self.year} {self.make} {self.model}\"\n",
    "        \n",
    "        return long_name.title()\n",
    "    \n",
    "    def read_odometer(self):\n",
    "        print(f'Check the odometer reading: {self.odometer_reading}') \n",
    "\n",
    "    def update_odometer(self, new_mileage):\n",
    "        if new_mileage >= self.odometer_reading:\n",
    "            self.odometer_reading = new_mileage\n",
    "        else: \n",
    "            print(\"Hmm we can't have less miles\")\n",
    "\n",
    "    def increment_odometer(self, new_mileage):\n",
    "        self.odometer_reading += new_mileage"
   ]
  },
  {
   "cell_type": "code",
   "execution_count": 19,
   "metadata": {},
   "outputs": [
    {
     "name": "stdout",
     "output_type": "stream",
     "text": [
      "2017 Volkswagen Passat\n",
      "Check the odometer reading: 3100\n"
     ]
    }
   ],
   "source": [
    "my_newcar = Car(\"Volkswagen\", \"Passat\", \"2017\")\n",
    "print(my_newcar.get_description())\n",
    "my_newcar.update_odometer(3000)\n",
    "my_newcar.increment_odometer(100)\n",
    "my_newcar.read_odometer()"
   ]
  }
 ],
 "metadata": {
  "kernelspec": {
   "display_name": "Python 3.8.2 ('venv': venv)",
   "language": "python",
   "name": "python3"
  },
  "language_info": {
   "codemirror_mode": {
    "name": "ipython",
    "version": 3
   },
   "file_extension": ".py",
   "mimetype": "text/x-python",
   "name": "python",
   "nbconvert_exporter": "python",
   "pygments_lexer": "ipython3",
   "version": "3.8.2"
  },
  "orig_nbformat": 4,
  "vscode": {
   "interpreter": {
    "hash": "fab4ce59a80b4785044b73226da79ac695db16b15c143c898611eeee12bbc540"
   }
  }
 },
 "nbformat": 4,
 "nbformat_minor": 2
}
