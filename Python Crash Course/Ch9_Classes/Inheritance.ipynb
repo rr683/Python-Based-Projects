{
 "cells": [
  {
   "cell_type": "markdown",
   "metadata": {},
   "source": [
    "pg.168: Inheritance: parent vs child type analogy. Look back to our class Car, now we will create a class ElectricCar derived from class Car"
   ]
  },
  {
   "cell_type": "code",
   "execution_count": 2,
   "metadata": {},
   "outputs": [],
   "source": [
    "class Car: \n",
    "    \"\"\"A simple model of a car\"\"\"\n",
    "\n",
    "    def __init__(self, make, model, year):\n",
    "        \"\"\"Initializing attributes\"\"\"\n",
    "        self.make = make\n",
    "        self.model = model\n",
    "        self.year = year\n",
    "        self.odometer_reading = 0\n",
    "\n",
    "    def get_description(self):\n",
    "        \"Returns formatted make description\"\n",
    "        long_name = f\"{self.year} {self.make} {self.model}\"\n",
    "        \n",
    "        return long_name.title()\n",
    "    \n",
    "    def read_odometer(self):\n",
    "        print(f'Check the odometer reading: {self.odometer_reading}') \n",
    "\n",
    "    def update_odometer(self, new_mileage):\n",
    "        if new_mileage >= self.odometer_reading:\n",
    "            self.odometer_reading = new_mileage\n",
    "        else: \n",
    "            print(\"Hmm we can't have less miles\")\n",
    "\n",
    "    def increment_odometer(self, new_mileage):\n",
    "        self.odometer_reading += new_mileage"
   ]
  },
  {
   "cell_type": "code",
   "execution_count": 3,
   "metadata": {},
   "outputs": [
    {
     "name": "stdout",
     "output_type": "stream",
     "text": [
      "2019 Tesla Model S\n"
     ]
    }
   ],
   "source": [
    "class ElectricCar(Car):\n",
    "    \"\"\"Represents aspects of an electric Car\"\"\"\n",
    "    def __init__(self, make, model, year):\n",
    "        \"\"\" Initialize attributes of the parent class\"\"\"\n",
    "        super().__init__(make, model, year)    \n",
    "\n",
    "    \n",
    "my_tesla = ElectricCar('tesla', 'model s', 2019)\n",
    "print(my_tesla.get_description())\n",
    "\n"
   ]
  },
  {
   "cell_type": "markdown",
   "metadata": {},
   "source": [
    "Pg. 169 -- adding attributes to the child class"
   ]
  },
  {
   "cell_type": "code",
   "execution_count": 5,
   "metadata": {},
   "outputs": [
    {
     "name": "stdout",
     "output_type": "stream",
     "text": [
      "2019 Tesla Model S\n",
      "This car has a battery capacity of 75 Kw \n"
     ]
    }
   ],
   "source": [
    "class ElectricCar(Car):\n",
    "    \"\"\"Represents aspects of an electric Car\"\"\"\n",
    "    def __init__(self, make, model, year):\n",
    "        \"\"\" Initialize attributes of the parent class\"\"\"\n",
    "        super().__init__(make, model, year)    \n",
    "        self.battery_size = 75 #added attribute battery size\n",
    "        \n",
    "    # Added method to child class that prints out battery size\n",
    "    def describe_battery(self):\n",
    "        print(f\"This car has a battery capacity of {self.battery_size} Kw \")\n",
    "\n",
    "    \n",
    "my_tesla = ElectricCar('tesla', 'model s', 2019)\n",
    "print(my_tesla.get_description())\n",
    "my_tesla.describe_battery()"
   ]
  },
  {
   "cell_type": "markdown",
   "metadata": {},
   "source": [
    "What if the class grows in length as we add more attributes and methods? Well we can do the followiing:"
   ]
  },
  {
   "cell_type": "code",
   "execution_count": 12,
   "metadata": {},
   "outputs": [
    {
     "name": "stdout",
     "output_type": "stream",
     "text": [
      "2019 Tesla Model S\n",
      "The Battery capacity for this car is 75 Kw\n",
      "Range of this car is 200 mi\n"
     ]
    }
   ],
   "source": [
    "class Battery:\n",
    "    def __init__(self, battery_size = 75):\n",
    "        \"\"\" Initialize attributes\"\"\"\n",
    "        self.battery_size = battery_size\n",
    "    \n",
    "    def describe_battery(self):\n",
    "        print(f\"The Battery capacity for this car is {self.battery_size} Kw\")\n",
    "\n",
    "    def get_range(self):\n",
    "        if self.battery_size == 75:\n",
    "            range = 200\n",
    "        elif self.battery_size > 75:\n",
    "            range = 250\n",
    "        print(f\"Range of this car is {range} mi\")\n",
    "class ElectricCar(Car):\n",
    "    \"\"\"Represents aspects of an electric Car\"\"\"\n",
    "    def __init__(self, make, model, year):\n",
    "        \"\"\" Initialize attributes of the parent class\"\"\"\n",
    "        super().__init__(make, model, year)    \n",
    "        self.battery = Battery() #added attribute battery size\n",
    "        \n",
    "\n",
    "    \n",
    "my_tesla = ElectricCar('tesla', 'model s', 2019)\n",
    "print(my_tesla.get_description())\n",
    "my_tesla.battery.describe_battery()\n",
    "my_tesla.battery.get_range()"
   ]
  },
  {
   "cell_type": "markdown",
   "metadata": {},
   "source": [
    "Pg. 173: Exercise 9-6, 9-7, 9-8"
   ]
  },
  {
   "cell_type": "code",
   "execution_count": 11,
   "metadata": {},
   "outputs": [
    {
     "name": "stdout",
     "output_type": "stream",
     "text": [
      "The restaurant name is Bob's Ice cream\n",
      "The cuisine is mainly Ice cream\n",
      "We have the following flavors: Chocolate\n",
      "We have the following flavors: Vanilla\n",
      "We have the following flavors: Strawberry\n"
     ]
    }
   ],
   "source": [
    "# EXERCISE 9-6 \n",
    "# from Creating_Using_Classes import Restaurant \n",
    "\n",
    "class Restaurant:\n",
    "# Exercise 9-1\n",
    "    def __init__(self, restaurant_name, cuisine_type):\n",
    "        \"\"\"initializing atributes\"\"\"\n",
    "        self.restaurant_name = restaurant_name\n",
    "        self.cuisine_type = cuisine_type\n",
    "    \n",
    "    def describe_restaurant(self):\n",
    "        \"\"\"Prints two pieces of information\"\"\"\n",
    "        print(f\"The restaurant name is {self.restaurant_name}\")\n",
    "        print(f\"The cuisine is mainly {self.cuisine_type}\")\n",
    "\n",
    "    def open_restaurant(self):\n",
    "        \"\"\"Prints message indicating restaurant is open\"\"\"\n",
    "        print(\"Restaurant is open now!\")\n",
    "\n",
    "\n",
    "\n",
    "#Creating Child Class called IceCreamStand \n",
    "class IceCreamStand(Restaurant): \n",
    "\n",
    "    def __init__(self, restaurant_name, cuisine_type = \"Ice cream\"):\n",
    "        super().__init__(restaurant_name, cuisine_type)\n",
    "        #self.flavor = None\n",
    "        self.flavors = []\n",
    "\n",
    "    def list_flavors(self):\n",
    "        for flavor in self.flavors:\n",
    "            print(f\"We have the following flavors: {flavor}\")\n",
    "        \n",
    "\n",
    "my_ice_cream_flavor = IceCreamStand(\"Bob's Ice cream\")\n",
    "my_ice_cream_flavor.flavors = [\"Chocolate\", \"Vanilla\", \"Strawberry\"]\n",
    "\n",
    "my_ice_cream_flavor.describe_restaurant()\n",
    "my_ice_cream_flavor.list_flavors()\n",
    "\n",
    "        \n",
    "\n",
    "    "
   ]
  },
  {
   "cell_type": "code",
   "execution_count": 7,
   "metadata": {},
   "outputs": [
    {
     "name": "stdout",
     "output_type": "stream",
     "text": [
      "\n",
      " Summary info of user's name: Ricardo\n",
      "\n",
      " Summary info of user's last name: Rosales-Mesta\n",
      "\n",
      " Summary info of user's age: 24\n",
      "\n",
      " Summary info of user's height: 5.8\n",
      "Hello, Mr Rosales-Mesta! We are ready for you\n",
      "These are the actions allowed as an Admin: ['can add post', 'can delete post', 'can ban user']\n"
     ]
    }
   ],
   "source": [
    "# EXERCISE 9-7\n",
    "# from Creating_Using_Classes import User\n",
    "# Exercise 9-3\n",
    "class User: \n",
    "    \n",
    "    def __init__(self, first_name, last_name, age, height):\n",
    "        self.first_name = first_name\n",
    "        self.last_name = last_name\n",
    "        self.age = age\n",
    "        self.height = height \n",
    "\n",
    "    def describe_user(self, **user_info):\n",
    "        print(f\"\\n Summary info of user's name: {self.first_name}\")\n",
    "        print(f\"\\n Summary info of user's last name: {self.last_name}\")\n",
    "        print(f\"\\n Summary info of user's age: {self.age}\")\n",
    "        print(f\"\\n Summary info of user's height: {self.height}\")\n",
    "\n",
    "    \n",
    "\n",
    "    def greet_user(self, **greetings):\n",
    "      print(f\"Hello, Mr {self.last_name}! We are ready for you\" )  \n",
    "\n",
    "\n",
    "ricardo = User(\"Ricardo\", \"Rosales-Mesta\", \"24\", \"5.8\")\n",
    "ricardo.describe_user()\n",
    "ricardo.greet_user()\n",
    "\n",
    "# Creating child class called Admin\n",
    "class Admin(User):\n",
    "\n",
    "    def __init__(self, first_name, last_name, age, height):\n",
    "        super().__init__(first_name, last_name, age, height)\n",
    "        self.privileges = None\n",
    "\n",
    "    def show_privileges(self):\n",
    "        self.privileges = [\"can add post\", \"can delete post\", \"can ban user\"]\n",
    "        print(f\"These are the actions allowed as an Admin: {self.privileges}\")\n",
    "\n",
    "my_privileges = Admin(\"Ricardo\", \"Mesta\", \"24\", \"5'9\")\n",
    "my_privileges.show_privileges()"
   ]
  }
 ],
 "metadata": {
  "kernelspec": {
   "display_name": "Python 3.8.2 ('venv': venv)",
   "language": "python",
   "name": "python3"
  },
  "language_info": {
   "codemirror_mode": {
    "name": "ipython",
    "version": 3
   },
   "file_extension": ".py",
   "mimetype": "text/x-python",
   "name": "python",
   "nbconvert_exporter": "python",
   "pygments_lexer": "ipython3",
   "version": "3.8.2"
  },
  "orig_nbformat": 4,
  "vscode": {
   "interpreter": {
    "hash": "fab4ce59a80b4785044b73226da79ac695db16b15c143c898611eeee12bbc540"
   }
  }
 },
 "nbformat": 4,
 "nbformat_minor": 2
}
