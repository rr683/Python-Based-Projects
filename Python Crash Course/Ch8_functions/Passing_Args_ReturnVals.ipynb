{
 "cells": [
  {
   "cell_type": "markdown",
   "metadata": {},
   "source": [
    "Python must match each argument in a function. Simplest way to do this is by order of arguments\n",
    "or what they call positional arguments"
   ]
  },
  {
   "cell_type": "code",
   "execution_count": 1,
   "metadata": {},
   "outputs": [
    {
     "name": "stdout",
     "output_type": "stream",
     "text": [
      "\n",
      " I have a horse\n",
      " My horse's name is Finley\n"
     ]
    }
   ],
   "source": [
    "def describe(animal_type, pet_name):\n",
    "    '''\n",
    "    Describe information about a pet\n",
    "    '''\n",
    "    print(f\"\\n I have a {animal_type}\")\n",
    "    print(f\" My {animal_type}'s name is {pet_name}\")\n",
    "\n",
    "describe(\"horse\", \"Finley\")"
   ]
  },
  {
   "cell_type": "markdown",
   "metadata": {},
   "source": [
    "Key Word Arguments: name-value pair that you pass to a function. You explicitly define the keyword argument = '' in a function. Ex:"
   ]
  },
  {
   "cell_type": "code",
   "execution_count": 2,
   "metadata": {},
   "outputs": [
    {
     "name": "stdout",
     "output_type": "stream",
     "text": [
      "\n",
      " I have a dog\n",
      " My dog's name is oslo\n"
     ]
    }
   ],
   "source": [
    "describe(pet_name= 'oslo', animal_type= 'dog')"
   ]
  },
  {
   "cell_type": "markdown",
   "metadata": {},
   "source": [
    "pg. 138 Returning simple vals"
   ]
  },
  {
   "cell_type": "code",
   "execution_count": 5,
   "metadata": {},
   "outputs": [
    {
     "data": {
      "text/plain": [
       "'Ricardo Rosales-Mesta'"
      ]
     },
     "execution_count": 5,
     "metadata": {},
     "output_type": "execute_result"
    }
   ],
   "source": [
    "def get_formatted_name(first_name, last_name):\n",
    "    \"\"\"\n",
    "    Return first and last names formatted\n",
    "    \"\"\"\n",
    "    full_name = f\"{first_name} {last_name}\"\n",
    "    return full_name\n",
    "\n",
    "get_formatted_name('Ricardo', 'Rosales-Mesta')\n",
    "\n",
    "#musician = get_formatted_name('Ric', 'Rose')\n",
    "#print(musician)"
   ]
  },
  {
   "cell_type": "markdown",
   "metadata": {},
   "source": [
    "Making arguments optional -- in this case: Middle Names"
   ]
  },
  {
   "cell_type": "code",
   "execution_count": 7,
   "metadata": {},
   "outputs": [
    {
     "data": {
      "text/plain": [
       "'Luis Manuel Rosales'"
      ]
     },
     "execution_count": 7,
     "metadata": {},
     "output_type": "execute_result"
    }
   ],
   "source": [
    "def get_formatted_name(first_name, last_name, middle_name = ''):\n",
    "    if middle_name:\n",
    "        full_name = f\"{first_name} {middle_name} {last_name}\"\n",
    "    else:\n",
    "        full_name = f\"{first_name} {last_name}\"\n",
    "    \n",
    "    return full_name\n",
    "\n",
    "# REMEMBER: This is still a positional argument so all inputs have match their name-value pairs\n",
    "get_formatted_name(\"Luis\", \"Rosales\")\n",
    "get_formatted_name(\"Luis\", \"Rosales\", \"Manuel\")\n"
   ]
  },
  {
   "cell_type": "markdown",
   "metadata": {},
   "source": [
    "pg. 140 -- Returning a Dictionary: \n"
   ]
  },
  {
   "cell_type": "code",
   "execution_count": 2,
   "metadata": {},
   "outputs": [
    {
     "name": "stdout",
     "output_type": "stream",
     "text": [
      "{'first': 'ricardo', 'last': 'mesta'}\n"
     ]
    }
   ],
   "source": [
    "def build_person(first_name, last_name): \n",
    "    person = {\"first\": first_name, \"last\": last_name}\n",
    "    return person\n",
    "\n",
    "engineer = build_person(\"ricardo\", \"mesta\")\n",
    "print(engineer)"
   ]
  },
  {
   "cell_type": "markdown",
   "metadata": {},
   "source": [
    "what if we wanted to include an optional value like age? then we can still store this in a dictionary "
   ]
  },
  {
   "cell_type": "code",
   "execution_count": 4,
   "metadata": {},
   "outputs": [
    {
     "name": "stdout",
     "output_type": "stream",
     "text": [
      "{'first': 'ricardo', 'last': 'mesta', 'age': 24}\n"
     ]
    }
   ],
   "source": [
    "def build_person(first_name, last_name, age = None): \n",
    "    person = {\"first\": first_name, \"last\": last_name}\n",
    "\n",
    "    if age:\n",
    "        # store age in dictionary person and then pass it to optional value in this case key called 'age' \n",
    "        person['age'] = age\n",
    "\n",
    "    return person\n",
    "\n",
    "engineer = build_person(\"ricardo\", \"mesta\", age = 24)\n",
    "print(engineer)"
   ]
  },
  {
   "cell_type": "markdown",
   "metadata": {},
   "source": [
    "How about while loops and lists? "
   ]
  },
  {
   "cell_type": "code",
   "execution_count": 6,
   "metadata": {},
   "outputs": [
    {
     "name": "stdout",
     "output_type": "stream",
     "text": [
      "\n",
      " Please tell me your name\n",
      "you can press 'q' to end at any time\n",
      "press 'q' to quit at any time\n",
      "Hi, Ricaord Mesta!\n",
      "\n",
      " Please tell me your name\n",
      "you can press 'q' to end at any time\n"
     ]
    }
   ],
   "source": [
    "def get_formatted(first_name, last_name):\n",
    "        full_name = f\"{first_name} {last_name}\"\n",
    "        return full_name\n",
    "\n",
    "while True:\n",
    "        print(\"\\n Please tell me your name\")\n",
    "        f_name = input(\"first name\")\n",
    "        print(\"you can press 'q' to end at any time\")\n",
    "        if f_name == 'q':\n",
    "            break\n",
    "\n",
    "        l_name = input(\"last name\")\n",
    "        print(\"press 'q' to quit at any time\")\n",
    "\n",
    "        if l_name == 'q':\n",
    "            break \n",
    "\n",
    "        formatted_name = get_formatted(f_name, l_name)\n",
    "        print(f\"Hi, {formatted_name}!\")\n"
   ]
  },
  {
   "cell_type": "markdown",
   "metadata": {},
   "source": [
    "Passing a list to a function. For example: "
   ]
  },
  {
   "cell_type": "code",
   "execution_count": 10,
   "metadata": {},
   "outputs": [
    {
     "name": "stdout",
     "output_type": "stream",
     "text": [
      "welcome Euler\n",
      "welcome Lagrange\n",
      "welcome Isaac\n"
     ]
    }
   ],
   "source": [
    "def greeter(names):\n",
    "    for name in names:\n",
    "        msg = f\"welcome {name.title()}\"\n",
    "        print(msg)\n",
    "guest_name = ['euler', 'lagrange', 'isaac']\n",
    "\n",
    "welcome_guest = greeter(guest_name)\n",
    "\n",
    "\n",
    "    "
   ]
  },
  {
   "cell_type": "markdown",
   "metadata": {},
   "source": [
    "pg. 144 writing more organized code with functions -- putting it all together! Functions, lists, while and for loops"
   ]
  },
  {
   "cell_type": "code",
   "execution_count": 11,
   "metadata": {},
   "outputs": [
    {
     "name": "stdout",
     "output_type": "stream",
     "text": [
      "transitioning uncofirmed designs to completed designs, please wait\n",
      "transitioning uncofirmed designs to completed designs, please wait\n",
      "transitioning uncofirmed designs to completed designs, please wait\n",
      "transitioning uncofirmed designs to completed designs, please wait\n",
      "here are some of completed designs: table\n",
      "here are some of completed designs: bookshelf\n",
      "here are some of completed designs: tv\n",
      "here are some of completed designs: chair\n"
     ]
    }
   ],
   "source": [
    "def print_models(unconfirmed_designs, completed_designs): \n",
    "    ''' we are going to take all unconfirmed designs and take them to completed designs for this function's job'''\n",
    "    #completed_designs = []\n",
    "    while unconfirmed_designs:\n",
    "        confirmed_designs = unconfirmed_designs.pop()\n",
    "        print(\"transitioning uncofirmed designs to completed designs, please wait\")\n",
    "        completed_designs.append(confirmed_designs)\n",
    "\n",
    "def show_completed_models(completed_models):\n",
    "\n",
    "    for completed_model in completed_models: \n",
    "        print(f\"here are some of completed designs: {completed_model}\")\n",
    "    \n",
    "\n",
    "unconfirmed_models = [\"chair\", \"tv\", 'bookshelf', \"table\"]\n",
    "completed_mods = []\n",
    "\n",
    "print_models(unconfirmed_models, completed_mods)\n",
    "show_completed_models(completed_models= completed_mods)\n"
   ]
  }
 ],
 "metadata": {
  "kernelspec": {
   "display_name": "Python 3.8.2 ('venv': venv)",
   "language": "python",
   "name": "python3"
  },
  "language_info": {
   "codemirror_mode": {
    "name": "ipython",
    "version": 3
   },
   "file_extension": ".py",
   "mimetype": "text/x-python",
   "name": "python",
   "nbconvert_exporter": "python",
   "pygments_lexer": "ipython3",
   "version": "3.8.2"
  },
  "orig_nbformat": 4,
  "vscode": {
   "interpreter": {
    "hash": "fab4ce59a80b4785044b73226da79ac695db16b15c143c898611eeee12bbc540"
   }
  }
 },
 "nbformat": 4,
 "nbformat_minor": 2
}
