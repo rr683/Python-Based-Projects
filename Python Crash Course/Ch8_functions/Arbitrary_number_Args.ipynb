{
 "cells": [
  {
   "cell_type": "markdown",
   "metadata": {},
   "source": [
    "pg. 148 it is possible to take an n amount of input arguments without explicitly listing them. This is done by adding asterisk , '*', \n",
    "in front of the argument. See examples of positional and arbitraty arguments in function:"
   ]
  },
  {
   "cell_type": "code",
   "execution_count": 2,
   "metadata": {},
   "outputs": [
    {
     "name": "stdout",
     "output_type": "stream",
     "text": [
      "\n",
      "Making a 12-inch pizza with desired toppings you picked\n",
      "chosen toppings:meat\n",
      "chosen toppings:pineapple\n"
     ]
    }
   ],
   "source": [
    "def make_pizza(size, *toppings): \n",
    "    print(f\"\\nMaking a {size}-inch pizza with desired toppings you picked\")\n",
    "\n",
    "    for topping in toppings: \n",
    "        print(f\"chosen toppings:{topping}\")\n",
    "\n",
    "make_pizza(12, \"meat\", 'pineapple')\n"
   ]
  },
  {
   "cell_type": "markdown",
   "metadata": {},
   "source": [
    "Now sometimes, we want to accept arbitrary number of arguments but you won't know ahead of time how many of them and what kind of info\n",
    "they'll have. Example: "
   ]
  },
  {
   "cell_type": "code",
   "execution_count": 2,
   "metadata": {},
   "outputs": [
    {
     "name": "stdout",
     "output_type": "stream",
     "text": [
      "{'loc': 'Princenton', 'field': 'physics', 'first_name': 'albert', 'last_name': 'einstein'}\n"
     ]
    }
   ],
   "source": [
    "def build_profile(first, last, **user_info):\n",
    "    \"\"\" Build a dictionary containing everything we know about a user\"\"\"\n",
    "\n",
    "    user_info['first_name'] = first\n",
    "    user_info['last_name'] = last \n",
    "    \n",
    "    return user_info\n",
    "\n",
    "user_profile = build_profile('albert', 'einstein', loc = 'Princenton', field = 'physics')\n",
    "print(user_profile)\n",
    "\n"
   ]
  }
 ],
 "metadata": {
  "kernelspec": {
   "display_name": "Python 3.8.2 ('venv': venv)",
   "language": "python",
   "name": "python3"
  },
  "language_info": {
   "codemirror_mode": {
    "name": "ipython",
    "version": 3
   },
   "file_extension": ".py",
   "mimetype": "text/x-python",
   "name": "python",
   "nbconvert_exporter": "python",
   "pygments_lexer": "ipython3",
   "version": "3.8.2"
  },
  "orig_nbformat": 4,
  "vscode": {
   "interpreter": {
    "hash": "fab4ce59a80b4785044b73226da79ac695db16b15c143c898611eeee12bbc540"
   }
  }
 },
 "nbformat": 4,
 "nbformat_minor": 2
}
