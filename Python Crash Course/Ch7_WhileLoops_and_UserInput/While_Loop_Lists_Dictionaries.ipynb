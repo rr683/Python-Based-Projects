{
 "cells": [
  {
   "cell_type": "markdown",
   "metadata": {},
   "source": [
    "pg. 124: in this case we will consider several users inputs and information. Following example considers \n",
    "newly unverified users of a website and then once they are verified, we pull them and add them to the verified list\n"
   ]
  },
  {
   "cell_type": "code",
   "execution_count": 3,
   "metadata": {},
   "outputs": [
    {
     "name": "stdout",
     "output_type": "stream",
     "text": [
      "verifying user: candace\n",
      "\n",
      " confirmining the following users\n",
      "verified!: candace\n",
      "verifying user: brian\n",
      "\n",
      " confirmining the following users\n",
      "verified!: candace\n",
      "verified!: brian\n",
      "verifying user: alice\n",
      "\n",
      " confirmining the following users\n",
      "verified!: candace\n",
      "verified!: brian\n",
      "verified!: alice\n"
     ]
    }
   ],
   "source": [
    "unconfirmed_users_list = ['alice', 'brian', 'candace']\n",
    "confirmed_users_list = []\n",
    "\n",
    "#verify each user until there is no more unconfirmed user\n",
    "\n",
    "while unconfirmed_users_list:\n",
    "    current_user = unconfirmed_users_list.pop() # 'pops' it out of list to current_user\n",
    "    print(f\"verifying user: {current_user}\")\n",
    "    confirmed_users_list.append(current_user) #adds whatever users are stored in current_user to confirmed_users_list\n",
    "\n",
    "    #now we print all confirmed users\n",
    "\n",
    "    print(\"\\n confirmining the following users\")\n",
    "    \n",
    "    for user in confirmed_users_list:\n",
    "        print(f\"verified!: {user}\")\n",
    "\n",
    "\n"
   ]
  },
  {
   "cell_type": "markdown",
   "metadata": {},
   "source": [
    "Pg. 126: filling a dictionary with user input. Let's do an example -- combining flag, dictionary, while-loop and input() concetps!"
   ]
  },
  {
   "cell_type": "code",
   "execution_count": 4,
   "metadata": {},
   "outputs": [
    {
     "name": "stdout",
     "output_type": "stream",
     "text": [
      "--Poll Results ---\n",
      "ricardo want to climb everest!\n"
     ]
    }
   ],
   "source": [
    "responses = {}\n",
    "\n",
    "# Lets' do a polling program - input of data mapped to a particular user and storing that data in a dictionary\n",
    "# set a flag first to activate loop\n",
    "\n",
    "polling_active = True \n",
    "\n",
    "while polling_active:\n",
    "    name = input(\"\\n what is your name?\")\n",
    "    response = input(\"which mountain would you like to climb?\")\n",
    "\n",
    "    # We store our responses in the following way:\n",
    "    responses[name] = response #dictionary\n",
    "\n",
    "    #find out if anyone else wants to input their names and climb\n",
    "    repeat = input(\"Would you like to let other people do this poll?\")\n",
    "    if repeat == \"no\":\n",
    "        polling_active = False\n",
    "\n",
    "print(\"--Poll Results ---\")\n",
    "\n",
    "for name, response in responses.items(): \n",
    "    print(f\"{name} want to climb {response}!\")\n",
    "\n",
    "\n",
    "\n",
    "\n",
    "\n"
   ]
  }
 ],
 "metadata": {
  "kernelspec": {
   "display_name": "Python 3.9.12 64-bit",
   "language": "python",
   "name": "python3"
  },
  "language_info": {
   "codemirror_mode": {
    "name": "ipython",
    "version": 3
   },
   "file_extension": ".py",
   "mimetype": "text/x-python",
   "name": "python",
   "nbconvert_exporter": "python",
   "pygments_lexer": "ipython3",
   "version": "3.9.12"
  },
  "orig_nbformat": 4,
  "vscode": {
   "interpreter": {
    "hash": "aee8b7b246df8f9039afb4144a1f6fd8d2ca17a180786b69acc140d282b71a49"
   }
  }
 },
 "nbformat": 4,
 "nbformat_minor": 2
}
