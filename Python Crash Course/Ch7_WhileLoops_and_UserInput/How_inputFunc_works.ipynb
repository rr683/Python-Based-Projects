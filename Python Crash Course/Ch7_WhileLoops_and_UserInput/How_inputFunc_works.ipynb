{
 "cells": [
  {
   "cell_type": "markdown",
   "metadata": {},
   "source": [
    "page 116: how to use input() example rollercoaster.py "
   ]
  },
  {
   "cell_type": "code",
   "execution_count": 3,
   "metadata": {},
   "outputs": [
    {
     "name": "stdout",
     "output_type": "stream",
     "text": [
      "\n",
      "You arenot tall enough\n"
     ]
    }
   ],
   "source": [
    "height = input(\"How tall are, in inches? \")\n",
    "height = int(height) #make sure input is an integer type, or string type, etc\n",
    "\n",
    "if height >= 48:\n",
    "    print(\"\\nYou'are tall enough to ride\")\n",
    "else:\n",
    "    print(\"\\nYou arenot tall enough\" )\n"
   ]
  },
  {
   "cell_type": "markdown",
   "metadata": {},
   "source": [
    "Introducing while Loops: executes everything as long as that condition is true pg. 118 - this may be how we generate data!\n"
   ]
  },
  {
   "cell_type": "code",
   "execution_count": 1,
   "metadata": {},
   "outputs": [
    {
     "name": "stdout",
     "output_type": "stream",
     "text": [
      "1\n",
      "2\n",
      "3\n",
      "4\n",
      "5\n"
     ]
    }
   ],
   "source": [
    "current_number = 1\n",
    "while current_number <= 5:\n",
    "    print(current_number)\n",
    "    current_number += 1 "
   ]
  },
  {
   "cell_type": "markdown",
   "metadata": {},
   "source": [
    "Letting the user decide when to quit"
   ]
  },
  {
   "cell_type": "code",
   "execution_count": 1,
   "metadata": {},
   "outputs": [
    {
     "name": "stdout",
     "output_type": "stream",
     "text": [
      "hi im trying to learn\n",
      "quit \n",
      "\n",
      "\n",
      "\n",
      "\n",
      "\n",
      "\n",
      "\n",
      "\n"
     ]
    }
   ],
   "source": [
    "prompt = \"\\n Tell me something and i will repeat it back\"\n",
    "prompt += \"\\n otherwise Enter 'quit' to end this program\"\n",
    "\n",
    "user_message_input = \"\"\n",
    "\n",
    "while user_message_input != 'quit':\n",
    "    user_message_input = input(prompt)\n",
    "    \n",
    "    if user_message_input != 'quit':\n",
    "        print(user_message_input)\n",
    "        \n"
   ]
  },
  {
   "cell_type": "markdown",
   "metadata": {},
   "source": [
    "pg. 120: Using a flag -- Lets use the previous program. A flag lets you run the whole program until the actual condition \n",
    "is false. Example:"
   ]
  },
  {
   "cell_type": "code",
   "execution_count": 3,
   "metadata": {},
   "outputs": [
    {
     "name": "stdout",
     "output_type": "stream",
     "text": [
      "im trying this again \n"
     ]
    }
   ],
   "source": [
    "prompt = \"\\n Tell me something and i will repeat it back\"\n",
    "prompt += \"\\n otherwise Enter 'quit' to end this program\"\n",
    "\n",
    "flag = True # var is called 'active' in the book\n",
    "while flag:\n",
    "    user_message_input = input(prompt)\n",
    "    \n",
    "    if user_message_input == 'quit':\n",
    "        flag = False\n",
    "    else:\n",
    "        print(user_message_input)"
   ]
  }
 ],
 "metadata": {
  "kernelspec": {
   "display_name": "Python 3.9.12 64-bit",
   "language": "python",
   "name": "python3"
  },
  "language_info": {
   "codemirror_mode": {
    "name": "ipython",
    "version": 3
   },
   "file_extension": ".py",
   "mimetype": "text/x-python",
   "name": "python",
   "nbconvert_exporter": "python",
   "pygments_lexer": "ipython3",
   "version": "3.9.12"
  },
  "orig_nbformat": 4,
  "vscode": {
   "interpreter": {
    "hash": "aee8b7b246df8f9039afb4144a1f6fd8d2ca17a180786b69acc140d282b71a49"
   }
  }
 },
 "nbformat": 4,
 "nbformat_minor": 2
}
