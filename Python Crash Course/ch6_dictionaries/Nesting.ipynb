{
 "cells": [
  {
   "cell_type": "markdown",
   "metadata": {},
   "source": [
    "Nesting: Storing multiple dictionaries in a list or a list of items as a value in a dictionary\n",
    "Pg. 106 - A list of dictionaries\n"
   ]
  },
  {
   "cell_type": "markdown",
   "metadata": {},
   "source": [
    "alien_0 cannot store info about another alien so we create a list of multiple dictionaries embedded in that list. for example (see blow):"
   ]
  },
  {
   "cell_type": "code",
   "execution_count": 2,
   "metadata": {},
   "outputs": [
    {
     "name": "stdout",
     "output_type": "stream",
     "text": [
      "{'color ': 'green', 'points': 5}\n",
      "{'color ': 'yellow', 'points': 10}\n",
      "{'color ': 'red', 'points': 15}\n"
     ]
    }
   ],
   "source": [
    "alien_0 = {'color ': 'green', 'points': 5}\n",
    "alien_1 = {'color ': 'yellow', 'points': 10}\n",
    "alien_2 = {'color ': 'red', 'points': 15}\n",
    "\n",
    "aliens = [alien_0, alien_1, alien_2]\n",
    "for al in aliens:\n",
    "    print(al)"
   ]
  },
  {
   "cell_type": "markdown",
   "metadata": {},
   "source": [
    "What if we did not want to manually create each dictionary corresponding to a specific alien manually? we can realistacally do this instead:"
   ]
  },
  {
   "cell_type": "code",
   "execution_count": 10,
   "metadata": {},
   "outputs": [
    {
     "name": "stdout",
     "output_type": "stream",
     "text": [
      "{'color': 'green', 'points': 5, 'speed': 'slow'}\n",
      "{'color': 'green', 'points': 5, 'speed': 'slow'}\n",
      "{'color': 'green', 'points': 5, 'speed': 'slow'}\n",
      "{'color': 'green', 'points': 5, 'speed': 'slow'}\n",
      "{'color': 'green', 'points': 5, 'speed': 'slow'}\n"
     ]
    }
   ],
   "source": [
    "aliens = []\n",
    "\n",
    "# Create X number of aliens - in this case 30\n",
    "for alien in range(30):\n",
    "    alien_attributes = {'color': 'green', 'points': 5, 'speed': 'slow'}\n",
    "    new_alien_fleet = aliens.append(alien_attributes)\n",
    "\n",
    "\n",
    "for alien in aliens[:5]:\n",
    "    print(alien)"
   ]
  },
  {
   "cell_type": "markdown",
   "metadata": {},
   "source": [
    "But the attributes for each alien are all the same. Can we change them? Probably\n"
   ]
  },
  {
   "cell_type": "code",
   "execution_count": 21,
   "metadata": {},
   "outputs": [
    {
     "name": "stdout",
     "output_type": "stream",
     "text": [
      "{'color': 'red', 'points': 15, 'speed': 'fast'}\n",
      "{'color': 'red', 'points': 15, 'speed': 'fast'}\n",
      "{'color': 'red', 'points': 15, 'speed': 'fast'}\n",
      "{'color': 'green', 'points': 5, 'speed': 'slow'}\n",
      "{'color': 'green', 'points': 5, 'speed': 'slow'}\n"
     ]
    }
   ],
   "source": [
    "for alien in aliens[:3]:\n",
    "    if alien['color'] == 'green':\n",
    "        alien['color'] = 'yellow'\n",
    "        alien['speed'] = 'medium'\n",
    "        alien['points'] = 10\n",
    "    elif alien['color'] == 'yellow':\n",
    "         alien['color'] = 'red'\n",
    "         alien['speed'] = 'fast'\n",
    "         alien['points'] = 15\n",
    "\n",
    "for alien in aliens[:5]:   \n",
    "    print(alien)"
   ]
  },
  {
   "cell_type": "markdown",
   "metadata": {},
   "source": [
    "A list in a dictionary: sometimes we want to have embedded lists in dictionary. Suppose the following -- "
   ]
  },
  {
   "cell_type": "code",
   "execution_count": 22,
   "metadata": {},
   "outputs": [
    {
     "name": "stdout",
     "output_type": "stream",
     "text": [
      "\n",
      "jen's favorite language are:\n",
      "\tpython\n",
      "\truby\n",
      "\n",
      "sarah's favorite language are:\n",
      "\tc\n",
      "\n",
      "edward's favorite language are:\n",
      "\truby\n",
      "\tgo\n",
      "\n",
      "phil's favorite language are:\n",
      "\tpython\n",
      "\thaskell\n"
     ]
    }
   ],
   "source": [
    "favorite_languages = {\n",
    "    'jen': ['python', 'ruby'],\n",
    "    'sarah': ['c'],\n",
    "    'edward': ['ruby', 'go'],\n",
    "    'phil': ['python', 'haskell'],\n",
    "}\n",
    "#items is a method that provides dictionary and lists or combination of both  \n",
    "for name, languages in favorite_languages.items():\n",
    "    print(f\"\\n{name}'s favorite language are:\")\n",
    "    for language in languages:\n",
    "        print(f\"\\t{language}\")\n",
    "\n"
   ]
  },
  {
   "cell_type": "markdown",
   "metadata": {},
   "source": [
    "For more practice and looking at dictionaries in dictionaries go over page 111"
   ]
  }
 ],
 "metadata": {
  "kernelspec": {
   "display_name": "Python 3.9.12 64-bit",
   "language": "python",
   "name": "python3"
  },
  "language_info": {
   "codemirror_mode": {
    "name": "ipython",
    "version": 3
   },
   "file_extension": ".py",
   "mimetype": "text/x-python",
   "name": "python",
   "nbconvert_exporter": "python",
   "pygments_lexer": "ipython3",
   "version": "3.9.12"
  },
  "orig_nbformat": 4,
  "vscode": {
   "interpreter": {
    "hash": "aee8b7b246df8f9039afb4144a1f6fd8d2ca17a180786b69acc140d282b71a49"
   }
  }
 },
 "nbformat": 4,
 "nbformat_minor": 2
}
