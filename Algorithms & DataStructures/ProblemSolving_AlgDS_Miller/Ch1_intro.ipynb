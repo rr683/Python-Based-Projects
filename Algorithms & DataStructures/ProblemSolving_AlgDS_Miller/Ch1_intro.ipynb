{
 "cells": [
  {
   "cell_type": "markdown",
   "metadata": {},
   "source": [
    "Defining functions "
   ]
  },
  {
   "cell_type": "code",
   "execution_count": 2,
   "metadata": {},
   "outputs": [
    {
     "data": {
      "text/plain": [
       "256"
      ]
     },
     "execution_count": 2,
     "metadata": {},
     "output_type": "execute_result"
    }
   ],
   "source": [
    "def square(n):\n",
    "    \"\"\"Simple square function\"\"\"\n",
    "    return n**2\n",
    "\n",
    "square(3)\n",
    "square(square(4))\n"
   ]
  },
  {
   "cell_type": "markdown",
   "metadata": {},
   "source": [
    "pg. 35 - Let's compute square root using Newton's Method"
   ]
  },
  {
   "cell_type": "code",
   "execution_count": 22,
   "metadata": {},
   "outputs": [
    {
     "data": {
      "text/plain": [
       "2.25"
      ]
     },
     "execution_count": 22,
     "metadata": {},
     "output_type": "execute_result"
    }
   ],
   "source": [
    "def squareroot(a):\n",
    "# General Formula for Newton's method:\n",
    "#  x_n+1 = x_n - (f(x_n)/f'(x_n))\n",
    "\n",
    "\n",
    "    x_n = a/2 # intial guess\n",
    "    for k in range(0,100):\n",
    "        x_next = (1/2)*( x_n + a/x_n)\n",
    "\n",
    "    return x_next\n",
    "\n",
    "squareroot(5)"
   ]
  },
  {
   "cell_type": "markdown",
   "metadata": {},
   "source": [
    "Object-Oriented Programming in Python: Defining Classes (Brief overview) through pg 43"
   ]
  },
  {
   "cell_type": "code",
   "execution_count": 28,
   "metadata": {},
   "outputs": [
    {
     "name": "stdout",
     "output_type": "stream",
     "text": [
      "3 / 4\n",
      "2/4\n",
      "0.5/1.0\n"
     ]
    }
   ],
   "source": [
    "# easy example - Define a Fraction\n",
    "\n",
    "\n",
    "class Fraction:\n",
    "\n",
    "    def __init__(self, top, bottom):\n",
    "        \"\"\"_summary_\n",
    "\n",
    "        Args:\n",
    "            top (_type_): _description_\n",
    "            bottom (_type_): _description_\n",
    "        \"\"\"\n",
    "        self.numerator = top\n",
    "        self.denominator = bottom\n",
    "\n",
    "    def show(self):\n",
    "    # method to have an instance of Fraction to print itself as a string\n",
    "        print(self.numerator, \"/\", self.denominator)\n",
    "\n",
    "    def __str__(self):\n",
    "    # method to have instance of Fraction to print itself as a string when using a print() statement\n",
    "        return str(self.numerator) + \"/\" + str(self.denominator)\n",
    "\n",
    "    \n",
    "    def __add__(self, fraction):\n",
    "        # adding this methos so that instances of this class can use the '+' operand \n",
    "        newnumerator = self.numerator*fraction.denominator + fraction.numerator*self.denominator\n",
    "        newdenominator = self.denominator*fraction.denominator\n",
    "        \n",
    "        k = gcd(newdenominator, newdenominator) \n",
    "        \n",
    "        return Fraction(newnumerator/k, newdenominator/k)\n",
    "    \n",
    "\n",
    "def gcd(m, n):\n",
    "    # adding method to find most simplified fraction version (helper function for __add__ method)\n",
    "    while m % n != 0:\n",
    "        oldm = m\n",
    "        oldn = n\n",
    "\n",
    "        m = oldn\n",
    "        n = oldm % oldn\n",
    "\n",
    "    return n\n",
    "\n",
    "# using method show() -- one way to convert an instance object into a string \n",
    "myF = Fraction(3,4).show()\n",
    "\n",
    "# using method __str__ to return Fraction as a string of itself\n",
    "myFr = Fraction(2,4)\n",
    "print(myFr)\n",
    "\n",
    "# what if add instances, in this case Fraction\n",
    "\n",
    "f1 = Fraction(1,8)\n",
    "f2 = Fraction(3,8)\n",
    "\n",
    "# F1 + F2 # cannot do this \n",
    "\n",
    "f1.__add__(f2)\n",
    "\n",
    "#Fraction.gcd(28,8)\n",
    "\n",
    "f3 = f1 + f2 \n",
    "print(f3)\n",
    "\n"
   ]
  },
  {
   "cell_type": "markdown",
   "metadata": {},
   "source": [
    "Skipped Logic gates of this chapter "
   ]
  }
 ],
 "metadata": {
  "kernelspec": {
   "display_name": "Python 3.10.8 64-bit",
   "language": "python",
   "name": "python3"
  },
  "language_info": {
   "codemirror_mode": {
    "name": "ipython",
    "version": 3
   },
   "file_extension": ".py",
   "mimetype": "text/x-python",
   "name": "python",
   "nbconvert_exporter": "python",
   "pygments_lexer": "ipython3",
   "version": "3.10.8"
  },
  "orig_nbformat": 4,
  "vscode": {
   "interpreter": {
    "hash": "04beb1a1cf3814d116065af780dfca5aa3b089ce1a06bfc659a10e29f0641da0"
   }
  }
 },
 "nbformat": 4,
 "nbformat_minor": 2
}
