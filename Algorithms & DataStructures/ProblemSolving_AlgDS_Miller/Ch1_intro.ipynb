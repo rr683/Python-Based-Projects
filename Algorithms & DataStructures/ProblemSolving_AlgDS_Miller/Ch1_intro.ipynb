{
 "cells": [
  {
   "cell_type": "markdown",
   "metadata": {},
   "source": [
    "Defining functions "
   ]
  },
  {
   "cell_type": "code",
   "execution_count": 2,
   "metadata": {},
   "outputs": [
    {
     "data": {
      "text/plain": [
       "256"
      ]
     },
     "execution_count": 2,
     "metadata": {},
     "output_type": "execute_result"
    }
   ],
   "source": [
    "def square(n):\n",
    "    \"\"\"Simple square function\"\"\"\n",
    "    return n**2\n",
    "\n",
    "square(3)\n",
    "square(square(4))\n"
   ]
  },
  {
   "cell_type": "markdown",
   "metadata": {},
   "source": [
    "pg. 35 - Let's compute square root using Newton's Method"
   ]
  },
  {
   "cell_type": "code",
   "execution_count": 22,
   "metadata": {},
   "outputs": [
    {
     "data": {
      "text/plain": [
       "2.25"
      ]
     },
     "execution_count": 22,
     "metadata": {},
     "output_type": "execute_result"
    }
   ],
   "source": [
    "def squareroot(a):\n",
    "# General Formula for Newton's method:\n",
    "#  x_n+1 = x_n - (f(x_n)/f'(x_n))\n",
    "\n",
    "\n",
    "    x_n = a/2 # intial guess\n",
    "    for k in range(0,100):\n",
    "        x_next = (1/2)*( x_n + a/x_n)\n",
    "\n",
    "    return x_next\n",
    "\n",
    "squareroot(5)"
   ]
  },
  {
   "cell_type": "markdown",
   "metadata": {},
   "source": [
    "Object-Oriented Programming in Python: Defining Classes"
   ]
  },
  {
   "cell_type": "code",
   "execution_count": null,
   "metadata": {},
   "outputs": [],
   "source": [
    "#easy example - Define a Fraction\n",
    "\n",
    "\n",
    "class Fraction:\n",
    "    \n",
    "    def __init__(self, top, bottom):\n",
    "        self.numerator = top\n",
    "        self.denomator = bottom\n",
    "        \n",
    "    def show(self):\n",
    "        print(self.numerator, \",\", self.denomator)"
   ]
  }
 ],
 "metadata": {
  "kernelspec": {
   "display_name": "Python 3.10.8 64-bit",
   "language": "python",
   "name": "python3"
  },
  "language_info": {
   "codemirror_mode": {
    "name": "ipython",
    "version": 3
   },
   "file_extension": ".py",
   "mimetype": "text/x-python",
   "name": "python",
   "nbconvert_exporter": "python",
   "pygments_lexer": "ipython3",
   "version": "3.10.8"
  },
  "orig_nbformat": 4,
  "vscode": {
   "interpreter": {
    "hash": "04beb1a1cf3814d116065af780dfca5aa3b089ce1a06bfc659a10e29f0641da0"
   }
  }
 },
 "nbformat": 4,
 "nbformat_minor": 2
}
