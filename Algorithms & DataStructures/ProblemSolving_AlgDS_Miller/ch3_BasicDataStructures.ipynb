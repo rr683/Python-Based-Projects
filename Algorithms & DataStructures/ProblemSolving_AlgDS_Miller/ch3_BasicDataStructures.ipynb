{
 "cells": [
  {
   "cell_type": "markdown",
   "metadata": {},
   "source": [
    "Linear Structures: Stacks, queues, deqeus, and lists. "
   ]
  },
  {
   "cell_type": "markdown",
   "metadata": {},
   "source": [
    "Stack is an ordered collection of items where the addition of new items and removal of existing items always takes place at the same end. The end usually seen as the top and\n",
    "opposite of top is \"base\". This follows a \"Last in First out\" (LIFO) principle. Newer items are at the top while older items are at the base -- which means that base items have been at the stack \n",
    "the longest"
   ]
  },
  {
   "cell_type": "markdown",
   "metadata": {},
   "source": [
    "Pg. 86 -- 3.3.3 Implementing a Stack in Python "
   ]
  },
  {
   "cell_type": "code",
   "execution_count": null,
   "metadata": {},
   "outputs": [],
   "source": [
    "\n",
    "class Stack:\n",
    "    \n",
    "    def __init__(self, item):\n",
    "        \"\"\"Implenting basic stack class \n",
    "\n",
    "        Args:\n",
    "            item (_type_): _description_\n",
    "        \"\"\"\n",
    "        self.item = item \n",
    "        \n",
    "    def isEmpty(self):\n",
    "        pass\n",
    "    \n",
    "    def push(self):\n",
    "        pass\n",
    "    \n",
    "    def pop(self):\n",
    "        pass\n",
    "    \n",
    "    def peek(self):\n",
    "        pass\n",
    "    \n",
    "    def size(self):\n",
    "        pass\n",
    "    "
   ]
  }
 ],
 "metadata": {
  "language_info": {
   "name": "python"
  },
  "orig_nbformat": 4
 },
 "nbformat": 4,
 "nbformat_minor": 2
}
