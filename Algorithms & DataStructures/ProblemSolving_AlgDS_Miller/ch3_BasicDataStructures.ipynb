{
 "cells": [
  {
   "cell_type": "markdown",
   "metadata": {},
   "source": [
    "Linear Structures: Stacks, queues, deqeus, and lists. "
   ]
  },
  {
   "cell_type": "markdown",
   "metadata": {},
   "source": [
    "Stack is an ordered collection of items where the addition of new items and removal of existing items always takes place at the same end. The end usually seen as the top and\n",
    "opposite of top is \"base\". This follows a \"Last in First out\" (LIFO) principle. Newer items are at the top while older items are at the base -- which means that base items have been at the stack \n",
    "the longest"
   ]
  },
  {
   "cell_type": "markdown",
   "metadata": {},
   "source": [
    "Pg. 86 -- 3.3.3 Implementing a Stack in Python "
   ]
  },
  {
   "cell_type": "code",
   "execution_count": 14,
   "metadata": {},
   "outputs": [
    {
     "data": {
      "text/plain": [
       "'exp(X)'"
      ]
     },
     "execution_count": 14,
     "metadata": {},
     "output_type": "execute_result"
    }
   ],
   "source": [
    "\n",
    "class Stack:\n",
    "    \n",
    "    def __init__(self):\n",
    "        \"\"\"Implenting basic stack class \n",
    "\n",
    "        Args:\n",
    "            item (_type_): _description_\n",
    "        \"\"\"\n",
    "        self.items = []\n",
    "        \n",
    "    def isEmpty(self):\n",
    "        return self.items == []\n",
    "    \n",
    "    def push(self, item):\n",
    "        return self.items.append(item)\n",
    "    \n",
    "    def pop(self):\n",
    "        return self.items.pop()\n",
    "    \n",
    "    def peek(self):\n",
    "        return self.items[len(self.items)-1]\n",
    "    \n",
    "    def size(self):\n",
    "         return len(self.items)\n",
    "\n",
    "\n",
    "# Let's test it -- should do in terminal but I want to show results.\n",
    " \n",
    "s = Stack()\n",
    "\n",
    "s.isEmpty()\n",
    "\n",
    "s.push(69)\n",
    "s.push(\"Middlebury\")\n",
    "s.push(\"exp(X)\")\n",
    "\n",
    "s.peek() # take a peek at first item \n",
    "\n",
    "s.size() # size/count of all elements or items in list \n",
    "\n",
    "s.pop() # remove item on top of stack "
   ]
  },
  {
   "cell_type": "markdown",
   "metadata": {},
   "source": [
    "Balanced Paranthesis Exercise pg 90 -- write an algorithm that will read a string of parenthesis from left to right and determine if the '( )' are balanced "
   ]
  },
  {
   "cell_type": "code",
   "execution_count": 8,
   "metadata": {},
   "outputs": [],
   "source": [
    "from pythonds.basic import Stack\n",
    "\n",
    "\n",
    "def parenthChecker(parenthesis):\n",
    "\n",
    "    # initializing 'base case'\n",
    "    balanced = True      # assume that parenthesis symbols are balanced\n",
    "    structure = Stack()  # use Stack() to solve problem\n",
    "    index = 0            # starting point\n",
    "\n",
    "    while index < len(parenthesis) and balanced:\n",
    "        character = parenthesis[index]\n",
    "        if character == \"(\":\n",
    "            structure.push(parenthesis)\n",
    "        else:\n",
    "            if structure.isEmpty():\n",
    "                return False\n",
    "\n",
    "            else:\n",
    "                structure.pop()\n",
    "\n",
    "        index = index + 1  # do it for all index\n",
    "\n",
    "        # If nothing is wrong then we continue\n",
    "    if structure.isEmpty() and balanced:\n",
    "        return True\n",
    "    else:\n",
    "        return False\n",
    "\n",
    "\n",
    "print(parenthChecker(parenthesis=\"(()\"))\n",
    "assert parenthChecker(\"()))(\") == False "
   ]
  },
  {
   "cell_type": "markdown",
   "metadata": {},
   "source": [
    "Now let's do a general case of nested brackets, parenthesis and other characters. Can we balance ([{}])?"
   ]
  },
  {
   "cell_type": "code",
   "execution_count": 62,
   "metadata": {},
   "outputs": [
    {
     "name": "stdout",
     "output_type": "stream",
     "text": [
      "True\n",
      "False\n"
     ]
    }
   ],
   "source": [
    "\n",
    "# I believe we can re-cycle most of the same code used above and generalize to solve for a generalized case\n",
    "\n",
    "def parenthChecker(parenthesis):\n",
    "\n",
    "    # initializing\n",
    "    balanced = True      # assume that parenthesis symbols are balanced\n",
    "    structure = Stack()  # use Stack() to solve problem\n",
    "    index = 0            # starting point\n",
    "\n",
    "    while index < len(parenthesis) and balanced:\n",
    "        character = parenthesis[index]\n",
    "        if character in \"([{\": # a combination of different type of chars. Also not == but in\n",
    "            structure.push(character)\n",
    "        else:\n",
    "            if structure.isEmpty():\n",
    "                balanced = False\n",
    "            #somehow add that combination/or matching is true here -- either create helper function or find method\n",
    "            else:\n",
    "                top_char = structure.pop()\n",
    "                if not matchFunc(top_char, character): # <-- understand this part \n",
    "                    balanced = False\n",
    "\n",
    "        index = index + 1  # do it for all index\n",
    "\n",
    "        # If nothing is wrong then we continue\n",
    "    if structure.isEmpty() and balanced:\n",
    "        return True\n",
    "    else:\n",
    "        return False\n",
    "    \n",
    "    \n",
    "    \n",
    "def matchFunc(open_char, close_char):\n",
    "    # build a matching open/close char: {[()]} \n",
    "    opens = \"([{\" \n",
    "    closes = \")]}\"\n",
    "    return opens.index(open_char) == closes.index(close_char)\n",
    "\n",
    "print(parenthChecker(\"([{}])\"))\n",
    "print(parenthChecker(\"([{}]\"))"
   ]
  },
  {
   "cell_type": "markdown",
   "metadata": {},
   "source": [
    "pg. 106 Queues; linear data structure. \n",
    "\n",
    "What is a Queue? A Queue is an ordered collection of items where the addition of new items happens at one end (\"rear\") and the removal of existing items occurs at the other end (\"front\"). In other words, this is the \"First-In First Out (FIFO)\" principle. Element most recently added start off at the rear and makes its way towards the front. "
   ]
  },
  {
   "cell_type": "code",
   "execution_count": 35,
   "metadata": {},
   "outputs": [],
   "source": [
    "# Let's create and implement a basic Queue class with its corresponding operations \n",
    "\n",
    "class Queue: \n",
    "    # creates a new queue that is empty. Needs no params and returns empty queue \n",
    "    def __init__(self):\n",
    "        self.items = []\n",
    "        \n",
    "    def isEmpty(self):\n",
    "    # checks if queue is empty. needs no params and returns boolean \n",
    "        return self.items == []\n",
    "    \n",
    "    def enqueue(self, item):\n",
    "    # adds a new item to the rear of the queue. it needs the item and returns nothing\n",
    "        self.items.insert(0, item)\n",
    "        \n",
    "    def dequeue(self):\n",
    "    # removes front item from the queue. needs no params and returns the item. queue is modified. \n",
    "        return self.items.pop()\n",
    "    \n",
    "    def size(self):\n",
    "    # returns number of items in the queue. needs no params and returns an integer. \n",
    "        return len(self.items)"
   ]
  },
  {
   "cell_type": "markdown",
   "metadata": {},
   "source": [
    " Hot Potato simulation -- Assume that the child holding the potato is at the front of the queue. cycle of passing the potato will terminate until one item/object remains in the queue"
   ]
  },
  {
   "cell_type": "code",
   "execution_count": 37,
   "metadata": {},
   "outputs": [],
   "source": [
    "from pythonds.basic import Queue\n",
    "\n",
    "def hotpotato(item_list, count_item):\n",
    "    queue_datastructure = Queue()\n",
    "    \n",
    "    for name in item_list: \n",
    "        queue_datastructure.enqueue(name)\n",
    "    \n",
    "    while queue_datastructure.size() > 1:\n",
    "        for i in range(count_item):\n",
    "            queue_datastructure.enqueue(queue_datastructure.dequeue())\n",
    "        \n",
    "        queue_datastructure.dequeue()\n",
    "        \n",
    "    return queue_datastructure.dequeue()"
   ]
  },
  {
   "cell_type": "code",
   "execution_count": 38,
   "metadata": {},
   "outputs": [
    {
     "data": {
      "text/plain": [
       "'Ricardo'"
      ]
     },
     "execution_count": 38,
     "metadata": {},
     "output_type": "execute_result"
    }
   ],
   "source": [
    "hotpotato([\"Hi\", \"my name\", \"is\", \"Ricardo\", \":)\"], 2)  "
   ]
  },
  {
   "cell_type": "markdown",
   "metadata": {},
   "source": [
    "Printing Tasks: Build tasking algorithm for a printer taking printing jobs at any given moment. \n",
    "\n",
    "Thoughts; as students submit printing jobs -- they'll be placed in a queue (FIFO scheme). when tasks is done printer will check if there are any remaining tasks. then we queue/dequeue as \n",
    "tasks come. For this exercise we assume that there are 10 students and they print twice per hour. This means that, all else equal, we have an avg = 1 task/180 secs"
   ]
  },
  {
   "cell_type": "code",
   "execution_count": 8,
   "metadata": {},
   "outputs": [],
   "source": [
    "import random\n",
    "from pythonds import Queue\n",
    "\n",
    "class Task:\n",
    "    def __init__(self, time) -> None: \n",
    "        self.timestamp = time\n",
    "        self.pages = random.randint(1,21)\n",
    "    \n",
    "    def getStamp(self):\n",
    "        return self.timestamp\n",
    "    \n",
    "    def getPages(self):\n",
    "        return self.pages     \n",
    "    \n",
    "    def waitTime(self, current):\n",
    "       return current - self.timestamp\n",
    "\n",
    "\n",
    "\n",
    "\n",
    "class Printer:\n",
    "    def __init__(self, pgpermin) -> None:\n",
    "        self.pagerate = pgpermin\n",
    "        self.currentTask = None\n",
    "        self.timeRemaining = 0\n",
    "    \n",
    "    def ifBusy(self):\n",
    "        # if busy return true, otherwise false\n",
    "        if self.currentTask != None:\n",
    "            return True\n",
    "        else:\n",
    "            return False\n",
    "    \n",
    "    \n",
    "    def internalTimer(self):\n",
    "        # check if we are busy - if we are then we subtract remaining time for current job in queue until there is no time remaining \n",
    "        if self.currentTask != None:\n",
    "            self.timeRemaining = self.timeRemaining - 1 #?\n",
    "            if self.timeRemaining <= 0:\n",
    "                self.currentTask = None\n",
    "    \n",
    "    def NextTask(self, newtask):\n",
    "        \n",
    "        self.currentTask = newtask\n",
    "        self.timeRemaining = self.timeRemaining - newtask.getPages()*60/self.pagerate\n",
    "        \n",
    "\n",
    "def mainsim(totalSeconds, pagerperMinute):\n",
    "    \n",
    "    labprinter = Printer(pagerperMinute)\n",
    "    QueueAlgorithm = Queue()\n",
    "    \n",
    "    waitingTimes = []\n",
    "    \n",
    "    for currentSecond in range(totalSeconds):\n",
    "        # one use case \n",
    "        if newPrintjob():\n",
    "            task = Task(currentSecond)\n",
    "            #check if for every second for a 180s interval if there exists a job that neeeds to be queued. So we QUeue it \n",
    "            QueueAlgorithm.enqueue(task)\n",
    "            \n",
    "        # another edge case\n",
    "        if not labprinter.ifBusy() and not QueueAlgorithm.isEmpty():\n",
    "            nextjob = QueueAlgorithm.dequeue()\n",
    "            waitingTimes.append(nextjob.waitTime(currentSecond))\n",
    "            labprinter.NextTask(nextjob)\n",
    "            \n",
    "        labprinter.internalTimer()\n",
    "    \n",
    "    averageWaitTimes = sum(waitingTimes)/len(waitingTimes)\n",
    "    \n",
    "    print(averageWaitTimes)\n",
    "\n",
    "def newPrintjob():\n",
    "    chanceoftask = random.randint(1,181)\n",
    "    if chanceoftask == 180:\n",
    "        return True \n",
    "    else:\n",
    "        return False "
   ]
  },
  {
   "cell_type": "code",
   "execution_count": 9,
   "metadata": {},
   "outputs": [
    {
     "name": "stdout",
     "output_type": "stream",
     "text": [
      "0.0\n",
      "0.0\n",
      "0.0\n",
      "0.0\n",
      "0.0\n",
      "0.0\n",
      "0.0\n",
      "0.0\n",
      "0.0\n",
      "0.0\n"
     ]
    }
   ],
   "source": [
    "for iter in range(10):\n",
    "    mainsim(3600,10)"
   ]
  }
 ],
 "metadata": {
  "kernelspec": {
   "display_name": "Python 3.10.8 64-bit",
   "language": "python",
   "name": "python3"
  },
  "language_info": {
   "codemirror_mode": {
    "name": "ipython",
    "version": 3
   },
   "file_extension": ".py",
   "mimetype": "text/x-python",
   "name": "python",
   "nbconvert_exporter": "python",
   "pygments_lexer": "ipython3",
   "version": "3.10.8"
  },
  "orig_nbformat": 4,
  "vscode": {
   "interpreter": {
    "hash": "04beb1a1cf3814d116065af780dfca5aa3b089ce1a06bfc659a10e29f0641da0"
   }
  }
 },
 "nbformat": 4,
 "nbformat_minor": 2
}
