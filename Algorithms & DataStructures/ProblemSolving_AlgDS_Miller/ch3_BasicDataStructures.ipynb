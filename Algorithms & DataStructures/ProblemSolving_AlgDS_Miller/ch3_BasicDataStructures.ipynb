{
 "cells": [
  {
   "cell_type": "markdown",
   "metadata": {},
   "source": [
    "Linear Structures: Stacks, queues, deqeus, and lists. "
   ]
  },
  {
   "cell_type": "markdown",
   "metadata": {},
   "source": [
    "Stack is an ordered collection of items where the addition of new items and removal of existing items always takes place at the same end. The end usually seen as the top and\n",
    "opposite of top is \"base\". This follows a \"Last in First out\" (LIFO) principle. Newer items are at the top while older items are at the base -- which means that base items have been at the stack \n",
    "the longest"
   ]
  },
  {
   "cell_type": "markdown",
   "metadata": {},
   "source": [
    "Pg. 86 -- 3.3.3 Implementing a Stack in Python "
   ]
  },
  {
   "cell_type": "code",
   "execution_count": 14,
   "metadata": {},
   "outputs": [
    {
     "data": {
      "text/plain": [
       "'exp(X)'"
      ]
     },
     "execution_count": 14,
     "metadata": {},
     "output_type": "execute_result"
    }
   ],
   "source": [
    "\n",
    "class Stack:\n",
    "    \n",
    "    def __init__(self):\n",
    "        \"\"\"Implenting basic stack class \n",
    "\n",
    "        Args:\n",
    "            item (_type_): _description_\n",
    "        \"\"\"\n",
    "        self.items = []\n",
    "        \n",
    "    def isEmpty(self):\n",
    "        return self.items == []\n",
    "    \n",
    "    def push(self, item):\n",
    "        return self.items.append(item)\n",
    "    \n",
    "    def pop(self):\n",
    "        return self.items.pop()\n",
    "    \n",
    "    def peek(self):\n",
    "        return self.items[len(self.items)-1]\n",
    "    \n",
    "    def size(self):\n",
    "         return len(self.items)\n",
    "\n",
    "\n",
    "# Let's test it -- should do in terminal but I want to show results.\n",
    " \n",
    "s = Stack()\n",
    "\n",
    "s.isEmpty()\n",
    "\n",
    "s.push(69)\n",
    "s.push(\"Middlebury\")\n",
    "s.push(\"exp(X)\")\n",
    "\n",
    "s.peek() # take a peek at first item \n",
    "\n",
    "s.size() # size/count of all elements or items in list \n",
    "\n",
    "s.pop() # remove item on top of stack "
   ]
  },
  {
   "cell_type": "markdown",
   "metadata": {},
   "source": [
    "Balanced Paranthesis Exercise pg 90 -- write an algorithm that will read a string of parenthesis from left to right and determine if the '( )' are balanced "
   ]
  },
  {
   "cell_type": "code",
   "execution_count": 8,
   "metadata": {},
   "outputs": [],
   "source": [
    "from pythonds.basic import Stack\n",
    "\n",
    "\n",
    "def parenthChecker(parenthesis):\n",
    "\n",
    "    # initializing 'base case'\n",
    "    balanced = True      # assume that parenthesis symbols are balanced\n",
    "    structure = Stack()  # use Stack() to solve problem\n",
    "    index = 0            # starting point\n",
    "\n",
    "    while index < len(parenthesis) and balanced:\n",
    "        character = parenthesis[index]\n",
    "        if character == \"(\":\n",
    "            structure.push(parenthesis)\n",
    "        else:\n",
    "            if structure.isEmpty():\n",
    "                return False\n",
    "\n",
    "            else:\n",
    "                structure.pop()\n",
    "\n",
    "        index = index + 1  # do it for all index\n",
    "\n",
    "        # If nothing is wrong then we continue\n",
    "    if structure.isEmpty() and balanced:\n",
    "        return True\n",
    "    else:\n",
    "        return False\n",
    "\n",
    "\n",
    "print(parenthChecker(parenthesis=\"(()\"))\n",
    "assert parenthChecker(\"()))(\") == False "
   ]
  },
  {
   "cell_type": "markdown",
   "metadata": {},
   "source": [
    "Now let's do a general case of nested brackets, parenthesis and other characters. Can we balance ([{}])?"
   ]
  },
  {
   "cell_type": "code",
   "execution_count": 62,
   "metadata": {},
   "outputs": [
    {
     "name": "stdout",
     "output_type": "stream",
     "text": [
      "True\n",
      "False\n"
     ]
    }
   ],
   "source": [
    "\n",
    "# I believe we can re-cycle most of the same code used above and generalize to solve for a generalized case\n",
    "\n",
    "def parenthChecker(parenthesis):\n",
    "\n",
    "    # initializing\n",
    "    balanced = True      # assume that parenthesis symbols are balanced\n",
    "    structure = Stack()  # use Stack() to solve problem\n",
    "    index = 0            # starting point\n",
    "\n",
    "    while index < len(parenthesis) and balanced:\n",
    "        character = parenthesis[index]\n",
    "        if character in \"([{\": # a combination of different type of chars. Also not == but in\n",
    "            structure.push(character)\n",
    "        else:\n",
    "            if structure.isEmpty():\n",
    "                balanced = False\n",
    "            #somehow add that combination/or matching is true here -- either create helper function or find method\n",
    "            else:\n",
    "                top_char = structure.pop()\n",
    "                if not matchFunc(top_char, character): # <-- understand this part \n",
    "                    balanced = False\n",
    "\n",
    "        index = index + 1  # do it for all index\n",
    "\n",
    "        # If nothing is wrong then we continue\n",
    "    if structure.isEmpty() and balanced:\n",
    "        return True\n",
    "    else:\n",
    "        return False\n",
    "    \n",
    "    \n",
    "    \n",
    "def matchFunc(open_char, close_char):\n",
    "    # build a matching open/close char: {[()]} \n",
    "    opens = \"([{\" \n",
    "    closes = \")]}\"\n",
    "    return opens.index(open_char) == closes.index(close_char)\n",
    "\n",
    "print(parenthChecker(\"([{}])\"))\n",
    "print(parenthChecker(\"([{}]\"))"
   ]
  }
 ],
 "metadata": {
  "kernelspec": {
   "display_name": "Python 3.10.8 64-bit",
   "language": "python",
   "name": "python3"
  },
  "language_info": {
   "codemirror_mode": {
    "name": "ipython",
    "version": 3
   },
   "file_extension": ".py",
   "mimetype": "text/x-python",
   "name": "python",
   "nbconvert_exporter": "python",
   "pygments_lexer": "ipython3",
   "version": "3.10.8"
  },
  "orig_nbformat": 4,
  "vscode": {
   "interpreter": {
    "hash": "04beb1a1cf3814d116065af780dfca5aa3b089ce1a06bfc659a10e29f0641da0"
   }
  }
 },
 "nbformat": 4,
 "nbformat_minor": 2
}
