{
 "cells": [
  {
   "cell_type": "markdown",
   "metadata": {},
   "source": [
    "The unordered List Abstract Data Type: Linked Lists -- collection of items where each item holds a relative position with respect to others (unordered)."
   ]
  },
  {
   "cell_type": "markdown",
   "metadata": {},
   "source": [
    "Basic buliding block of linked list implementation is Node (class): Holds list item (data field) and reference to the next node. In other words we hace the following: \n",
    "\n",
    "[Node] = [Data or Item | Reference: Next]"
   ]
  },
  {
   "cell_type": "code",
   "execution_count": 1,
   "metadata": {},
   "outputs": [],
   "source": [
    "class Node: \n",
    "    \n",
    "    def __init__(self, initData) -> None:\n",
    "        self.data = initData\n",
    "        self.next = None\n",
    "        \n",
    "    def getData(self):\n",
    "        return self.data\n",
    "    \n",
    "    def getNext(self):\n",
    "        return self.next\n",
    "    \n",
    "    def setData(self, newData):\n",
    "        self.data = newData\n",
    "        \n",
    "    def setNext(self, newNext):\n",
    "        self.next = newNext"
   ]
  },
  {
   "cell_type": "markdown",
   "metadata": {},
   "source": [
    "UnorderedList class will help with identifying the reference to the first item which will then help us go to the next item item in the linked list.\n",
    "\n",
    "[EmptyList] -> (head) ->points to first list in item -> [Node1] -> [Node2] -> [Node3] -> None = End"
   ]
  },
  {
   "cell_type": "code",
   "execution_count": null,
   "metadata": {},
   "outputs": [],
   "source": [
    "class UnorderedList:\n",
    "    \n",
    "    def __init__(self) -> None:\n",
    "        self.head = None\n",
    "        \n",
    "    def isEmpty(self):\n",
    "        # check to see if the head of the list is a reference to None  \n",
    "        return self.head == None\n",
    "    def add(self, item):\n",
    "        # looks to see item in next node and then adds that item to next node. \n",
    "        temp = Node(item)\n",
    "        upd = temp.setNext(self.head)\n",
    "        temp = upd\n",
    "    \n",
    "    def length(self):\n",
    "        current = self.head\n",
    "        count = 0\n",
    "        while count != 0: \n",
    "            count = count + 1\n",
    "            current = current\n",
    "                \n",
    "    \n",
    "    "
   ]
  }
 ],
 "metadata": {
  "kernelspec": {
   "display_name": "Python 3.10.8 64-bit",
   "language": "python",
   "name": "python3"
  },
  "language_info": {
   "codemirror_mode": {
    "name": "ipython",
    "version": 3
   },
   "file_extension": ".py",
   "mimetype": "text/x-python",
   "name": "python",
   "nbconvert_exporter": "python",
   "pygments_lexer": "ipython3",
   "version": "3.10.8"
  },
  "orig_nbformat": 4,
  "vscode": {
   "interpreter": {
    "hash": "04beb1a1cf3814d116065af780dfca5aa3b089ce1a06bfc659a10e29f0641da0"
   }
  }
 },
 "nbformat": 4,
 "nbformat_minor": 2
}
